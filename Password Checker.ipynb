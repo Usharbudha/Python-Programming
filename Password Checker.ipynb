{
 "cells": [
  {
   "cell_type": "code",
   "execution_count": 1,
   "metadata": {},
   "outputs": [],
   "source": [
    "import re"
   ]
  },
  {
   "cell_type": "code",
   "execution_count": 9,
   "metadata": {},
   "outputs": [
    {
     "name": "stdout",
     "output_type": "stream",
     "text": [
      "Enter Password ::hjkah\n",
      "Not a Valid Password\n"
     ]
    }
   ],
   "source": [
    "passw = input(\"Enter Password ::\")\n",
    "fl = 0\n",
    "while True: \n",
    "    if (len(passw)<8): \n",
    "        fl= -1\n",
    "        break\n",
    "    elif not re.search(\"[a-z]\", passw): \n",
    "        fl = -1\n",
    "        break\n",
    "    elif not re.search(\"[A-Z]\", passw): \n",
    "        fl = -1\n",
    "        break\n",
    "    elif not re.search(\"[0-9]\", passw): \n",
    "        fl = -1\n",
    "        break\n",
    "    elif not re.search(\"[_@$]\", passw): \n",
    "        fl = -1\n",
    "        break\n",
    "    elif re.search(\"\\s\", passw): \n",
    "        fl = -1\n",
    "        break\n",
    "    else: \n",
    "        fl = 0\n",
    "        print(\" This Is Valid Password\") \n",
    "        break\n",
    "if fl ==-1: \n",
    "    print(\"Not a Valid Password\") "
   ]
  },
  {
   "cell_type": "code",
   "execution_count": null,
   "metadata": {},
   "outputs": [],
   "source": []
  }
 ],
 "metadata": {
  "kernelspec": {
   "display_name": "Python 3",
   "language": "python",
   "name": "python3"
  },
  "language_info": {
   "codemirror_mode": {
    "name": "ipython",
    "version": 3
   },
   "file_extension": ".py",
   "mimetype": "text/x-python",
   "name": "python",
   "nbconvert_exporter": "python",
   "pygments_lexer": "ipython3",
   "version": "3.7.4"
  }
 },
 "nbformat": 4,
 "nbformat_minor": 2
}
